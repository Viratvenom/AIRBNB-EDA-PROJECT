{
  "nbformat": 4,
  "nbformat_minor": 0,
  "metadata": {
    "kernelspec": {
      "display_name": "Python 3",
      "language": "python",
      "name": "python3"
    },
    "language_info": {
      "codemirror_mode": {
        "name": "ipython",
        "version": 3
      },
      "file_extension": ".py",
      "mimetype": "text/x-python",
      "name": "python",
      "nbconvert_exporter": "python",
      "pygments_lexer": "ipython3",
      "version": "3.6.6"
    },
    "colab": {
      "provenance": [],
      "name": "Artificial Neural Network for Regression.ipynb",
      "include_colab_link": true
    }
  },
  "cells": [
    {
      "cell_type": "markdown",
      "metadata": {
        "id": "view-in-github",
        "colab_type": "text"
      },
      "source": [
        "<a href=\"https://colab.research.google.com/github/Viratvenom/AIRBNB-EDA-PROJECT/blob/main/Artificial_Neural_Network_for_Regression.ipynb\" target=\"_parent\"><img src=\"https://colab.research.google.com/assets/colab-badge.svg\" alt=\"Open In Colab\"/></a>"
      ]
    },
    {
      "cell_type": "markdown",
      "source": [
        "**Importing libraries**"
      ],
      "metadata": {
        "id": "-W8p5cJQc7RG"
      }
    },
    {
      "cell_type": "code",
      "source": [
        "import numpy as np\n",
        "import pandas as pd\n",
        "import tensorflow as tf\n",
        "\n",
        "tf.version"
      ],
      "metadata": {
        "id": "RbVT-H0T0X7x",
        "colab": {
          "base_uri": "https://localhost:8080/"
        },
        "outputId": "2d9ed804-e99e-49c0-a951-d409b097b5ca"
      },
      "execution_count": null,
      "outputs": [
        {
          "output_type": "execute_result",
          "data": {
            "text/plain": [
              "<module 'tensorflow._api.v2.version' from '/usr/local/lib/python3.9/dist-packages/tensorflow/_api/v2/version/__init__.py'>"
            ]
          },
          "metadata": {},
          "execution_count": 45
        }
      ]
    },
    {
      "cell_type": "code",
      "source": [
        "# mount drive\n",
        "from google.colab import drive\n",
        "drive.mount('/content/drive')"
      ],
      "metadata": {
        "colab": {
          "base_uri": "https://localhost:8080/"
        },
        "id": "u8qeGAeM0Gjm",
        "outputId": "fa9d7946-04f6-4492-a671-703029d6478d"
      },
      "execution_count": null,
      "outputs": [
        {
          "output_type": "stream",
          "name": "stdout",
          "text": [
            "Drive already mounted at /content/drive; to attempt to forcibly remount, call drive.mount(\"/content/drive\", force_remount=True).\n"
          ]
        }
      ]
    },
    {
      "cell_type": "code",
      "source": [
        "#read file\n",
        "filepath = '/content/Copy of Folds5x2_pp.csv'\n",
        "df = pd.read_csv(filepath)"
      ],
      "metadata": {
        "id": "HUbO8SFX0qS_"
      },
      "execution_count": null,
      "outputs": []
    },
    {
      "cell_type": "markdown",
      "source": [
        " **Data PRE PROCESSING**"
      ],
      "metadata": {
        "id": "h6upo9XadI8R"
      }
    },
    {
      "cell_type": "code",
      "source": [
        "df.head()"
      ],
      "metadata": {
        "colab": {
          "base_uri": "https://localhost:8080/",
          "height": 206
        },
        "id": "NSysy0XcndDD",
        "outputId": "6b7a3d2d-5116-4bdd-c8bf-65425661ec09"
      },
      "execution_count": null,
      "outputs": [
        {
          "output_type": "execute_result",
          "data": {
            "text/plain": [
              "      AT      V       AP     RH      PE\n",
              "0   8.34  40.77  1010.84  90.01  480.48\n",
              "1  23.64  58.49  1011.40  74.20  445.75\n",
              "2  29.74  56.90  1007.15  41.91  438.76\n",
              "3  19.07  49.69  1007.22  76.79  453.09\n",
              "4  11.80  40.66  1017.13  97.20  464.43"
            ],
            "text/html": [
              "\n",
              "  <div id=\"df-45c62540-5d3d-4596-bb5b-9cc811279e3d\">\n",
              "    <div class=\"colab-df-container\">\n",
              "      <div>\n",
              "<style scoped>\n",
              "    .dataframe tbody tr th:only-of-type {\n",
              "        vertical-align: middle;\n",
              "    }\n",
              "\n",
              "    .dataframe tbody tr th {\n",
              "        vertical-align: top;\n",
              "    }\n",
              "\n",
              "    .dataframe thead th {\n",
              "        text-align: right;\n",
              "    }\n",
              "</style>\n",
              "<table border=\"1\" class=\"dataframe\">\n",
              "  <thead>\n",
              "    <tr style=\"text-align: right;\">\n",
              "      <th></th>\n",
              "      <th>AT</th>\n",
              "      <th>V</th>\n",
              "      <th>AP</th>\n",
              "      <th>RH</th>\n",
              "      <th>PE</th>\n",
              "    </tr>\n",
              "  </thead>\n",
              "  <tbody>\n",
              "    <tr>\n",
              "      <th>0</th>\n",
              "      <td>8.34</td>\n",
              "      <td>40.77</td>\n",
              "      <td>1010.84</td>\n",
              "      <td>90.01</td>\n",
              "      <td>480.48</td>\n",
              "    </tr>\n",
              "    <tr>\n",
              "      <th>1</th>\n",
              "      <td>23.64</td>\n",
              "      <td>58.49</td>\n",
              "      <td>1011.40</td>\n",
              "      <td>74.20</td>\n",
              "      <td>445.75</td>\n",
              "    </tr>\n",
              "    <tr>\n",
              "      <th>2</th>\n",
              "      <td>29.74</td>\n",
              "      <td>56.90</td>\n",
              "      <td>1007.15</td>\n",
              "      <td>41.91</td>\n",
              "      <td>438.76</td>\n",
              "    </tr>\n",
              "    <tr>\n",
              "      <th>3</th>\n",
              "      <td>19.07</td>\n",
              "      <td>49.69</td>\n",
              "      <td>1007.22</td>\n",
              "      <td>76.79</td>\n",
              "      <td>453.09</td>\n",
              "    </tr>\n",
              "    <tr>\n",
              "      <th>4</th>\n",
              "      <td>11.80</td>\n",
              "      <td>40.66</td>\n",
              "      <td>1017.13</td>\n",
              "      <td>97.20</td>\n",
              "      <td>464.43</td>\n",
              "    </tr>\n",
              "  </tbody>\n",
              "</table>\n",
              "</div>\n",
              "      <button class=\"colab-df-convert\" onclick=\"convertToInteractive('df-45c62540-5d3d-4596-bb5b-9cc811279e3d')\"\n",
              "              title=\"Convert this dataframe to an interactive table.\"\n",
              "              style=\"display:none;\">\n",
              "        \n",
              "  <svg xmlns=\"http://www.w3.org/2000/svg\" height=\"24px\"viewBox=\"0 0 24 24\"\n",
              "       width=\"24px\">\n",
              "    <path d=\"M0 0h24v24H0V0z\" fill=\"none\"/>\n",
              "    <path d=\"M18.56 5.44l.94 2.06.94-2.06 2.06-.94-2.06-.94-.94-2.06-.94 2.06-2.06.94zm-11 1L8.5 8.5l.94-2.06 2.06-.94-2.06-.94L8.5 2.5l-.94 2.06-2.06.94zm10 10l.94 2.06.94-2.06 2.06-.94-2.06-.94-.94-2.06-.94 2.06-2.06.94z\"/><path d=\"M17.41 7.96l-1.37-1.37c-.4-.4-.92-.59-1.43-.59-.52 0-1.04.2-1.43.59L10.3 9.45l-7.72 7.72c-.78.78-.78 2.05 0 2.83L4 21.41c.39.39.9.59 1.41.59.51 0 1.02-.2 1.41-.59l7.78-7.78 2.81-2.81c.8-.78.8-2.07 0-2.86zM5.41 20L4 18.59l7.72-7.72 1.47 1.35L5.41 20z\"/>\n",
              "  </svg>\n",
              "      </button>\n",
              "      \n",
              "  <style>\n",
              "    .colab-df-container {\n",
              "      display:flex;\n",
              "      flex-wrap:wrap;\n",
              "      gap: 12px;\n",
              "    }\n",
              "\n",
              "    .colab-df-convert {\n",
              "      background-color: #E8F0FE;\n",
              "      border: none;\n",
              "      border-radius: 50%;\n",
              "      cursor: pointer;\n",
              "      display: none;\n",
              "      fill: #1967D2;\n",
              "      height: 32px;\n",
              "      padding: 0 0 0 0;\n",
              "      width: 32px;\n",
              "    }\n",
              "\n",
              "    .colab-df-convert:hover {\n",
              "      background-color: #E2EBFA;\n",
              "      box-shadow: 0px 1px 2px rgba(60, 64, 67, 0.3), 0px 1px 3px 1px rgba(60, 64, 67, 0.15);\n",
              "      fill: #174EA6;\n",
              "    }\n",
              "\n",
              "    [theme=dark] .colab-df-convert {\n",
              "      background-color: #3B4455;\n",
              "      fill: #D2E3FC;\n",
              "    }\n",
              "\n",
              "    [theme=dark] .colab-df-convert:hover {\n",
              "      background-color: #434B5C;\n",
              "      box-shadow: 0px 1px 3px 1px rgba(0, 0, 0, 0.15);\n",
              "      filter: drop-shadow(0px 1px 2px rgba(0, 0, 0, 0.3));\n",
              "      fill: #FFFFFF;\n",
              "    }\n",
              "  </style>\n",
              "\n",
              "      <script>\n",
              "        const buttonEl =\n",
              "          document.querySelector('#df-45c62540-5d3d-4596-bb5b-9cc811279e3d button.colab-df-convert');\n",
              "        buttonEl.style.display =\n",
              "          google.colab.kernel.accessAllowed ? 'block' : 'none';\n",
              "\n",
              "        async function convertToInteractive(key) {\n",
              "          const element = document.querySelector('#df-45c62540-5d3d-4596-bb5b-9cc811279e3d');\n",
              "          const dataTable =\n",
              "            await google.colab.kernel.invokeFunction('convertToInteractive',\n",
              "                                                     [key], {});\n",
              "          if (!dataTable) return;\n",
              "\n",
              "          const docLinkHtml = 'Like what you see? Visit the ' +\n",
              "            '<a target=\"_blank\" href=https://colab.research.google.com/notebooks/data_table.ipynb>data table notebook</a>'\n",
              "            + ' to learn more about interactive tables.';\n",
              "          element.innerHTML = '';\n",
              "          dataTable['output_type'] = 'display_data';\n",
              "          await google.colab.output.renderOutput(dataTable, element);\n",
              "          const docLink = document.createElement('div');\n",
              "          docLink.innerHTML = docLinkHtml;\n",
              "          element.appendChild(docLink);\n",
              "        }\n",
              "      </script>\n",
              "    </div>\n",
              "  </div>\n",
              "  "
            ]
          },
          "metadata": {},
          "execution_count": 20
        }
      ]
    },
    {
      "cell_type": "code",
      "source": [
        "#importing dataset & pre-processing\n",
        "x = df.iloc[:, :-1].values\n",
        "y = df.iloc[:, -1].values\n",
        "print (x)\n",
        "print (y)"
      ],
      "metadata": {
        "colab": {
          "base_uri": "https://localhost:8080/"
        },
        "id": "PLJTeiJJceCp",
        "outputId": "7c67ecf9-add5-4b37-89f5-cfaa8ea0eb79"
      },
      "execution_count": null,
      "outputs": [
        {
          "output_type": "stream",
          "name": "stdout",
          "text": [
            "[[   8.34   40.77 1010.84   90.01]\n",
            " [  23.64   58.49 1011.4    74.2 ]\n",
            " [  29.74   56.9  1007.15   41.91]\n",
            " ...\n",
            " [  15.99   43.34 1014.2    78.66]\n",
            " [  17.65   59.87 1018.58   94.65]\n",
            " [  23.68   51.3  1011.86   71.24]]\n",
            "[480.48 445.75 438.76 ... 465.96 450.93 451.67]\n"
          ]
        }
      ]
    },
    {
      "cell_type": "code",
      "source": [
        "#spilting  the dataset test/training test\n",
        "from sklearn.model_selection import train_test_split\n",
        "x_train, x_test, y_train, y_test = train_test_split( x, y, test_size=0.2, random_state=0)"
      ],
      "metadata": {
        "id": "dVI5tafQdCVJ"
      },
      "execution_count": null,
      "outputs": []
    },
    {
      "cell_type": "markdown",
      "source": [
        "**Building ANN**"
      ],
      "metadata": {
        "id": "fV2XS0_Zj8L7"
      }
    },
    {
      "cell_type": "code",
      "source": [
        "#Initializing the ANN\n",
        "from tensorflow import keras\n",
        "ann = tf.keras.models.Sequential()"
      ],
      "metadata": {
        "id": "7hFXJLrzkZGg"
      },
      "execution_count": null,
      "outputs": []
    },
    {
      "cell_type": "code",
      "source": [
        "#Adding the first layers\n",
        "ann.add(tf.keras.layers.Dense(units=6, activation ='relu'))"
      ],
      "metadata": {
        "id": "YTIM6EoUmKPs"
      },
      "execution_count": null,
      "outputs": []
    },
    {
      "cell_type": "code",
      "source": [
        "#Adding the seconds layer\n",
        "ann.add(tf.keras.layers.Dense(units=6, activation ='relu'))"
      ],
      "metadata": {
        "id": "QSHc1_Tym2UB"
      },
      "execution_count": null,
      "outputs": []
    },
    {
      "cell_type": "code",
      "source": [
        "#Adding the output layer\n",
        "ann.add(tf.keras.layers.Dense(units=1))"
      ],
      "metadata": {
        "id": "okNvI6qlo3hQ"
      },
      "execution_count": null,
      "outputs": []
    },
    {
      "cell_type": "markdown",
      "source": [
        "**Training the Ann**"
      ],
      "metadata": {
        "id": "7CdD-kpspxmm"
      }
    },
    {
      "cell_type": "code",
      "source": [
        "#Compiling the ANN\n",
        "ann.compile(optimizer= 'adam',loss = 'mean_squared_error')"
      ],
      "metadata": {
        "id": "EDgR24GEp5oD"
      },
      "execution_count": null,
      "outputs": []
    },
    {
      "cell_type": "code",
      "source": [
        "#Training the ANN model on the Training set\n",
        "ann.fit(x_train , y_train ,batch_size = 32, epochs=100)"
      ],
      "metadata": {
        "colab": {
          "base_uri": "https://localhost:8080/"
        },
        "id": "qcvPOsTRqE6k",
        "outputId": "810ba080-d6e0-4ad1-efd2-5b62c6b49b67"
      },
      "execution_count": null,
      "outputs": [
        {
          "output_type": "stream",
          "name": "stdout",
          "text": [
            "Epoch 1/100\n",
            "240/240 [==============================] - 2s 2ms/step - loss: 596779.4375\n",
            "Epoch 2/100\n",
            "240/240 [==============================] - 0s 2ms/step - loss: 128933.9688\n",
            "Epoch 3/100\n",
            "240/240 [==============================] - 0s 2ms/step - loss: 9789.2432\n",
            "Epoch 4/100\n",
            "240/240 [==============================] - 0s 2ms/step - loss: 130.3477\n",
            "Epoch 5/100\n",
            "240/240 [==============================] - 0s 2ms/step - loss: 124.9444\n",
            "Epoch 6/100\n",
            "240/240 [==============================] - 0s 2ms/step - loss: 122.8359\n",
            "Epoch 7/100\n",
            "240/240 [==============================] - 0s 2ms/step - loss: 120.7024\n",
            "Epoch 8/100\n",
            "240/240 [==============================] - 0s 2ms/step - loss: 118.4769\n",
            "Epoch 9/100\n",
            "240/240 [==============================] - 0s 2ms/step - loss: 116.1646\n",
            "Epoch 10/100\n",
            "240/240 [==============================] - 0s 2ms/step - loss: 113.5430\n",
            "Epoch 11/100\n",
            "240/240 [==============================] - 0s 2ms/step - loss: 110.6818\n",
            "Epoch 12/100\n",
            "240/240 [==============================] - 0s 2ms/step - loss: 107.4970\n",
            "Epoch 13/100\n",
            "240/240 [==============================] - 0s 2ms/step - loss: 104.0951\n",
            "Epoch 14/100\n",
            "240/240 [==============================] - 1s 2ms/step - loss: 100.3882\n",
            "Epoch 15/100\n",
            "240/240 [==============================] - 1s 2ms/step - loss: 96.3699\n",
            "Epoch 16/100\n",
            "240/240 [==============================] - 1s 2ms/step - loss: 92.0434\n",
            "Epoch 17/100\n",
            "240/240 [==============================] - 1s 2ms/step - loss: 87.5350\n",
            "Epoch 18/100\n",
            "240/240 [==============================] - 1s 2ms/step - loss: 82.7835\n",
            "Epoch 19/100\n",
            "240/240 [==============================] - 1s 3ms/step - loss: 78.2482\n",
            "Epoch 20/100\n",
            "240/240 [==============================] - 1s 3ms/step - loss: 73.1470\n",
            "Epoch 21/100\n",
            "240/240 [==============================] - 1s 3ms/step - loss: 68.0406\n",
            "Epoch 22/100\n",
            "240/240 [==============================] - 0s 2ms/step - loss: 63.1641\n",
            "Epoch 23/100\n",
            "240/240 [==============================] - 0s 2ms/step - loss: 58.4840\n",
            "Epoch 24/100\n",
            "240/240 [==============================] - 0s 2ms/step - loss: 54.0974\n",
            "Epoch 25/100\n",
            "240/240 [==============================] - 0s 2ms/step - loss: 49.8451\n",
            "Epoch 26/100\n",
            "240/240 [==============================] - 0s 2ms/step - loss: 46.2001\n",
            "Epoch 27/100\n",
            "240/240 [==============================] - 0s 2ms/step - loss: 43.0891\n",
            "Epoch 28/100\n",
            "240/240 [==============================] - 0s 2ms/step - loss: 40.4509\n",
            "Epoch 29/100\n",
            "240/240 [==============================] - 0s 2ms/step - loss: 38.0196\n",
            "Epoch 30/100\n",
            "240/240 [==============================] - 0s 2ms/step - loss: 36.1302\n",
            "Epoch 31/100\n",
            "240/240 [==============================] - 0s 2ms/step - loss: 34.8727\n",
            "Epoch 32/100\n",
            "240/240 [==============================] - 0s 2ms/step - loss: 33.7455\n",
            "Epoch 33/100\n",
            "240/240 [==============================] - 0s 2ms/step - loss: 32.9387\n",
            "Epoch 34/100\n",
            "240/240 [==============================] - 0s 2ms/step - loss: 32.3439\n",
            "Epoch 35/100\n",
            "240/240 [==============================] - 0s 2ms/step - loss: 31.8538\n",
            "Epoch 36/100\n",
            "240/240 [==============================] - 0s 2ms/step - loss: 31.4955\n",
            "Epoch 37/100\n",
            "240/240 [==============================] - 0s 2ms/step - loss: 30.7024\n",
            "Epoch 38/100\n",
            "240/240 [==============================] - 1s 2ms/step - loss: 30.1529\n",
            "Epoch 39/100\n",
            "240/240 [==============================] - 1s 2ms/step - loss: 30.2031\n",
            "Epoch 40/100\n",
            "240/240 [==============================] - 0s 2ms/step - loss: 29.7040\n",
            "Epoch 41/100\n",
            "240/240 [==============================] - 0s 2ms/step - loss: 29.9384\n",
            "Epoch 42/100\n",
            "240/240 [==============================] - 0s 2ms/step - loss: 29.5927\n",
            "Epoch 43/100\n",
            "240/240 [==============================] - 0s 2ms/step - loss: 29.2576\n",
            "Epoch 44/100\n",
            "240/240 [==============================] - 1s 2ms/step - loss: 28.7932\n",
            "Epoch 45/100\n",
            "240/240 [==============================] - 1s 4ms/step - loss: 28.6593\n",
            "Epoch 46/100\n",
            "240/240 [==============================] - 1s 4ms/step - loss: 28.3561\n",
            "Epoch 47/100\n",
            "240/240 [==============================] - 1s 3ms/step - loss: 27.9767\n",
            "Epoch 48/100\n",
            "240/240 [==============================] - 1s 4ms/step - loss: 27.8592\n",
            "Epoch 49/100\n",
            "240/240 [==============================] - 1s 3ms/step - loss: 27.6405\n",
            "Epoch 50/100\n",
            "240/240 [==============================] - 1s 2ms/step - loss: 27.6524\n",
            "Epoch 51/100\n",
            "240/240 [==============================] - 0s 2ms/step - loss: 27.4440\n",
            "Epoch 52/100\n",
            "240/240 [==============================] - 1s 3ms/step - loss: 27.8661\n",
            "Epoch 53/100\n",
            "240/240 [==============================] - 1s 4ms/step - loss: 27.0404\n",
            "Epoch 54/100\n",
            "240/240 [==============================] - 1s 4ms/step - loss: 27.2928\n",
            "Epoch 55/100\n",
            "240/240 [==============================] - 1s 4ms/step - loss: 26.7703\n",
            "Epoch 56/100\n",
            "240/240 [==============================] - 1s 2ms/step - loss: 26.6939\n",
            "Epoch 57/100\n",
            "240/240 [==============================] - 1s 3ms/step - loss: 26.6402\n",
            "Epoch 58/100\n",
            "240/240 [==============================] - 1s 3ms/step - loss: 27.1871\n",
            "Epoch 59/100\n",
            "240/240 [==============================] - 1s 2ms/step - loss: 26.5546\n",
            "Epoch 60/100\n",
            "240/240 [==============================] - 1s 3ms/step - loss: 26.5773\n",
            "Epoch 61/100\n",
            "240/240 [==============================] - 1s 3ms/step - loss: 26.4833\n",
            "Epoch 62/100\n",
            "240/240 [==============================] - 1s 2ms/step - loss: 27.0517\n",
            "Epoch 63/100\n",
            "240/240 [==============================] - 1s 2ms/step - loss: 26.5184\n",
            "Epoch 64/100\n",
            "240/240 [==============================] - 1s 2ms/step - loss: 26.4605\n",
            "Epoch 65/100\n",
            "240/240 [==============================] - 1s 5ms/step - loss: 26.9253\n",
            "Epoch 66/100\n",
            "240/240 [==============================] - 1s 6ms/step - loss: 26.4275\n",
            "Epoch 67/100\n",
            "240/240 [==============================] - 1s 5ms/step - loss: 26.2308\n",
            "Epoch 68/100\n",
            "240/240 [==============================] - 1s 4ms/step - loss: 26.7976\n",
            "Epoch 69/100\n",
            "240/240 [==============================] - 1s 3ms/step - loss: 26.1549\n",
            "Epoch 70/100\n",
            "240/240 [==============================] - 1s 2ms/step - loss: 26.9756\n",
            "Epoch 71/100\n",
            "240/240 [==============================] - 1s 3ms/step - loss: 26.3686\n",
            "Epoch 72/100\n",
            "240/240 [==============================] - 1s 3ms/step - loss: 27.0207\n",
            "Epoch 73/100\n",
            "240/240 [==============================] - 1s 3ms/step - loss: 26.6722\n",
            "Epoch 74/100\n",
            "240/240 [==============================] - 1s 4ms/step - loss: 26.9308\n",
            "Epoch 75/100\n",
            "240/240 [==============================] - 1s 3ms/step - loss: 26.5492\n",
            "Epoch 76/100\n",
            "240/240 [==============================] - 1s 4ms/step - loss: 26.9695\n",
            "Epoch 77/100\n",
            "240/240 [==============================] - 1s 3ms/step - loss: 26.0859\n",
            "Epoch 78/100\n",
            "240/240 [==============================] - 1s 3ms/step - loss: 26.5041\n",
            "Epoch 79/100\n",
            "240/240 [==============================] - 1s 3ms/step - loss: 26.2666\n",
            "Epoch 80/100\n",
            "240/240 [==============================] - 1s 2ms/step - loss: 26.6438\n",
            "Epoch 81/100\n",
            "240/240 [==============================] - 1s 4ms/step - loss: 26.1219\n",
            "Epoch 82/100\n",
            "240/240 [==============================] - 1s 3ms/step - loss: 26.7386\n",
            "Epoch 83/100\n",
            "240/240 [==============================] - 1s 3ms/step - loss: 26.8654\n",
            "Epoch 84/100\n",
            "240/240 [==============================] - 1s 4ms/step - loss: 26.8450\n",
            "Epoch 85/100\n",
            "240/240 [==============================] - 1s 4ms/step - loss: 26.7416\n",
            "Epoch 86/100\n",
            "240/240 [==============================] - 1s 3ms/step - loss: 26.2154\n",
            "Epoch 87/100\n",
            "240/240 [==============================] - 1s 6ms/step - loss: 27.1861\n",
            "Epoch 88/100\n",
            "240/240 [==============================] - 1s 5ms/step - loss: 26.2002\n",
            "Epoch 89/100\n",
            "240/240 [==============================] - 1s 4ms/step - loss: 26.4496\n",
            "Epoch 90/100\n",
            "240/240 [==============================] - 1s 4ms/step - loss: 26.3009\n",
            "Epoch 91/100\n",
            "240/240 [==============================] - 1s 3ms/step - loss: 26.1448\n",
            "Epoch 92/100\n",
            "240/240 [==============================] - 1s 4ms/step - loss: 26.9891\n",
            "Epoch 93/100\n",
            "240/240 [==============================] - 1s 4ms/step - loss: 26.0598\n",
            "Epoch 94/100\n",
            "240/240 [==============================] - 1s 2ms/step - loss: 26.5298\n",
            "Epoch 95/100\n",
            "240/240 [==============================] - 0s 2ms/step - loss: 27.1876\n",
            "Epoch 96/100\n",
            "240/240 [==============================] - 0s 2ms/step - loss: 26.6737\n",
            "Epoch 97/100\n",
            "240/240 [==============================] - 1s 4ms/step - loss: 26.6758\n",
            "Epoch 98/100\n",
            "240/240 [==============================] - 0s 2ms/step - loss: 26.2412\n",
            "Epoch 99/100\n",
            "240/240 [==============================] - 0s 2ms/step - loss: 26.2554\n",
            "Epoch 100/100\n",
            "240/240 [==============================] - 0s 2ms/step - loss: 26.7129\n"
          ]
        },
        {
          "output_type": "execute_result",
          "data": {
            "text/plain": [
              "<keras.callbacks.History at 0x7feb302aebe0>"
            ]
          },
          "metadata": {},
          "execution_count": 38
        }
      ]
    },
    {
      "cell_type": "code",
      "source": [
        "#Predicting the results of the Test set\n",
        "y_pred = ann.predict(x_test)\n",
        "np.set_printoptions(precision=2)\n",
        "print(np.concatenate((y_pred.reshape(len(y_pred),1), y_test.reshape(len(y_test),1)),1))"
      ],
      "metadata": {
        "colab": {
          "base_uri": "https://localhost:8080/"
        },
        "id": "YFMo8SR6qJ-1",
        "outputId": "96820636-8c5a-47ab-8e97-8bd591298b65"
      },
      "execution_count": null,
      "outputs": [
        {
          "output_type": "stream",
          "name": "stdout",
          "text": [
            "60/60 [==============================] - 0s 1ms/step\n",
            "[[431.18 426.18]\n",
            " [450.59 451.1 ]\n",
            " [446.14 442.87]\n",
            " ...\n",
            " [457.15 454.2 ]\n",
            " [450.16 444.13]\n",
            " [432.43 436.58]]\n"
          ]
        }
      ]
    }
  ]
}